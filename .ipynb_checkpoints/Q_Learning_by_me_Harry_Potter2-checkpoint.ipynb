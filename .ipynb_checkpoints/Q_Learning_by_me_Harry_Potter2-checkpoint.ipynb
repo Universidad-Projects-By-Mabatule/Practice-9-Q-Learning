{
 "cells": [
  {
   "cell_type": "markdown",
   "metadata": {},
   "source": [
    "# Practice 9 - Intelligent Systems\n",
    "## Q-Learning - Harry \n",
    "\n",
    "### Mauricio Balderrama Ali"
   ]
  },
  {
   "cell_type": "markdown",
   "metadata": {},
   "source": [
    "# Introduction\n",
    "Q-learning is a reinforcement learning technique used in machine learning. The goal of Q-learning is to learn a set of rules that tells an agent what action to take under what circumstances. It does not require a model of the environment and can handle problems with stochastic transitions and rewards without requiring adaptations.\n",
    "## Problem Harry saving Sirius\n",
    "![title](image/problem.jpg)\n"
   ]
  },
  {
   "cell_type": "code",
   "execution_count": 165,
   "metadata": {},
   "outputs": [],
   "source": [
    "import numpy as np\n",
    "import gym\n",
    "import random\n",
    "import time\n",
    "from IPython.display import clear_output\n",
    "from matplotlib import pyplot as plot\n",
    "import numpy as np"
   ]
  },
  {
   "cell_type": "markdown",
   "metadata": {},
   "source": [
    "# Initialization of initial and goal state variables\n",
    "### Harry is in the initial position (1,1) and Sirius in (4,7).\n",
    "Creating a game environment by saving Sirius"
   ]
  },
  {
   "cell_type": "code",
   "execution_count": 167,
   "metadata": {},
   "outputs": [
    {
     "name": "stdout",
     "output_type": "stream",
     "text": [
      "[[ 0.  0.  0.  0.  0.  0.  0.  0.  0.]\n",
      " [ 0. 10.  0.  0.  0.  0.  0.  0.  0.]\n",
      " [ 0.  0.  0.  0.  0.  0.  0.  0.  0.]\n",
      " [ 0.  0.  0.  0.  0.  0.  0.  0.  0.]\n",
      " [ 0.  0.  0.  0.  0.  0.  0. 11.  0.]\n",
      " [ 0.  0.  0.  0.  0.  0.  0.  0.  0.]\n",
      " [ 0.  0.  0.  0.  0.  0.  0.  0.  0.]]\n"
     ]
    }
   ],
   "source": [
    "row_size=7\n",
    "column_size=9\n",
    "mat= np.zeros((row_size,column_size))\n",
    "\n",
    "initial_state=(1,1) #position Harry potter\n",
    "goal_state=(4,7) # position Sirius\n",
    "\n",
    "harry=10   # Harry's representation in the matrix\n",
    "sirius=11  # Representation of Sirius in the matrix\n",
    "\n",
    "\n",
    "mat[initial_state[0]][initial_state[1]]= harry\n",
    "mat[goal_state[0]][goal_state[1]]= sirius\n",
    "\n",
    "print(mat) "
   ]
  },
  {
   "cell_type": "markdown",
   "metadata": {},
   "source": [
    "## Get statuses and actions for the road to save Sirius."
   ]
  },
  {
   "cell_type": "code",
   "execution_count": 109,
   "metadata": {},
   "outputs": [
    {
     "name": "stdout",
     "output_type": "stream",
     "text": [
      "7 9\n"
     ]
    }
   ],
   "source": [
    "action_space_size = row_size\n",
    "state_space_size = column_size\n",
    "print(action_space_size,state_space_size)"
   ]
  },
  {
   "cell_type": "markdown",
   "metadata": {},
   "source": [
    "## Reward value:\n",
    " *      +5 Sirius -> end of the game because I saved Sirius\n",
    " *      -1 Start, did not find it"
   ]
  },
  {
   "cell_type": "code",
   "execution_count": 168,
   "metadata": {},
   "outputs": [],
   "source": [
    "num_episodes = 10000\n",
    "max_steps_per_episode = 100\n",
    "learning_rate = 0.2\n",
    "discount_rate = 0.95\n",
    "rewards_avg = []"
   ]
  },
  {
   "cell_type": "markdown",
   "metadata": {},
   "source": [
    "# How does it work? \n",
    "## First, the Q-Table was set up.\n",
    "I set up my Q-table so that one row of the problem matrix is a Matrix in order to have easier access to the data. As shown in the picture you can see that each row is a matrix.\n",
    "way it was created: **q_table = np.zeros((action_space_size,state_space_size , 4))**\n",
    "## Actions\n",
    "![title](image/actions.JPG)\n",
    "\n",
    "# Q-Table \n",
    "![title](image/q_value_by_me.jpg)\n",
    "# Implemented functions\n",
    "The implementation of 3 functions was carried out to complete the algorithm as follows:\n",
    "\n",
    "## def pass_too(state,action)\n",
    "\n",
    "Description:\n",
    "\n",
    "Here we receive what is the state and the action that through the action will affect my next state. As we have defined before we have 4 actions up, down, right and left. What we return here is the new state(Tuple) that I take according to the received action.\n",
    "\n",
    "## def storm(state):\n",
    "\n",
    "Description:\n",
    "\n",
    "The storm function receives a **state** where the problem gives us 3 options to pass:\n",
    "* That if it falls in column 3 (A) Harry will have strong winds that will move him 1 square from south to north with a probability of 0.2.\n",
    "* If it falls in column 4 (B) Harry will have strong winds that will move him 2 squares from south to north with a probability of 0.3.\n",
    "* That if it falls in column 5 (C) Harry will have strong winds that will move him 1 square from south to north with a probability of 0.25. \n",
    "So given these conditions is where we reuse the function **pass_too** to move harry either 1 or 2 columns depending on the random probability and the column he is in. This function returns the next state(Tuple) given the storm.\n",
    "\n",
    "## def expe(state,action):\n",
    "\n",
    "Description:\n",
    "\n",
    "In the expe function basically uses the two previous functions to go to the next state, here we also see if our next state reached the goal which would be the position of Sirius(7,5). This function returns the next state(Tuple), Reward(int) and if it reached the goal(Bool)."
   ]
  },
  {
   "cell_type": "code",
   "execution_count": 112,
   "metadata": {},
   "outputs": [],
   "source": [
    "actions = [\"up\",\"right\",\"down\",\"left\"]\n",
    "def pass_too(state , action):\n",
    "    new_row_index = state[0]\n",
    "    new_column_index = state[1]\n",
    "    \n",
    "    if(actions[action] == 'up'       and state[0] > 0):\n",
    "            new_row_index -= 1\n",
    "    elif (actions[action] == 'right' and state[1] < column_size - 1):\n",
    "            new_column_index += 1\n",
    "    elif (actions[action] == 'down'  and state[0] < row_size - 1):      \n",
    "            new_row_index += 1\n",
    "    elif (actions[action] == 'left'  and state[1] > 0):  \n",
    "            new_column_index -= 1\n",
    "    return new_row_index, new_column_index\n",
    "\n",
    "def storm(state):\n",
    "    if(state[1]==3):\n",
    "        if(random.uniform(0, 1) <0.2):\n",
    "            return pass_too(state,0)\n",
    "        else:\n",
    "            return state\n",
    "    if(state[1]==4):\n",
    "        if(random.uniform(0, 1) <0.3):\n",
    "            aux=pass_too(state,0)\n",
    "            return pass_too(aux,0)\n",
    "        else:\n",
    "            return state\n",
    "    if(state[1]==5):\n",
    "        if(random.uniform(0, 1) <0.25):\n",
    "            return pass_too(state,0)\n",
    "        else:\n",
    "            return state\n",
    "    return state\n",
    "        \n",
    "def expe(state,action):\n",
    "    i,j = pass_too(state,action)\n",
    "    state= i,j\n",
    "    i,j = storm(state)\n",
    "    if(mat[i][j] == sirius ):\n",
    "        return ((i,j),5,True)\n",
    "    else:\n",
    "        return ((i,j),-1,False)\n"
   ]
  },
  {
   "cell_type": "markdown",
   "metadata": {},
   "source": [
    "# Run Q-Learning algorithm:"
   ]
  },
  {
   "cell_type": "code",
   "execution_count": 113,
   "metadata": {},
   "outputs": [],
   "source": [
    "# exporation-exploitation trade-off params\n",
    "for it in range(100):\n",
    "    rewards_all_episodes=[]\n",
    "    exploration_rate = 1         # Epsilon\n",
    "    max_exploration_rate = 1       # Epsilon Max\n",
    "    min_exploration_rate = 0.01    # Epsilon min\n",
    "    exploration_decay_rate = 0.005 # Epsiolon Delta\n",
    "\n",
    "    # init q table in zeros\n",
    "    q_table = np.zeros((action_space_size,state_space_size , 4))\n",
    "    # iterate over the episodes\n",
    "    for episode in range(num_episodes):\n",
    "        state = initial_state\n",
    "        done = False\n",
    "        rewards_current_episode = 0\n",
    "\n",
    "        # iterate over the steps for an episode\n",
    "        for step in range(max_steps_per_episode):\n",
    "            # Exploration-exploitation trade-off\n",
    "            exploration_rate_threshold = random.uniform(0, 1) #random number between 0 and 1\n",
    "\n",
    "            if exploration_rate_threshold > exploration_rate:\n",
    "                action = np.argmax(q_table[state[0], state[1]])\n",
    "            else:\n",
    "                action = random.randint(0, 3)\n",
    "\n",
    "            # Take action\n",
    "            new_state, reward, done = expe(state,action)  #implied function\n",
    "            \n",
    "            # Update Q-table for Q(s,a)\n",
    "            q_table[state[0],state[1], action] = (1 - learning_rate)* q_table[state[0],state[1], action] + \\\n",
    "                learning_rate * (reward + discount_rate * np.max(q_table[new_state[0],new_state[1]]) )  #temporal_difference\n",
    "            # transition next state\n",
    "            state = new_state\n",
    "            rewards_current_episode += reward\n",
    "\n",
    "            if done == True: \n",
    "                break\n",
    "\n",
    "        # Exploration rate decay\n",
    "        exploration_rate = min_exploration_rate + \\\n",
    "        (max_exploration_rate - min_exploration_rate) * np.exp(-exploration_decay_rate*episode)\n",
    "        rewards_all_episodes.append(rewards_current_episode)\n",
    "        \n",
    "    rewards_avg.append(rewards_all_episodes)\n"
   ]
  },
  {
   "cell_type": "markdown",
   "metadata": {},
   "source": [
    "# Graph of episodes vs. rewards\n",
    "You can see that our model stagnates at some point in the next step we will zoom in."
   ]
  },
  {
   "cell_type": "code",
   "execution_count": 114,
   "metadata": {},
   "outputs": [
    {
     "data": {
      "text/plain": [
       "[<matplotlib.lines.Line2D at 0x175b1d08c10>]"
      ]
     },
     "execution_count": 114,
     "metadata": {},
     "output_type": "execute_result"
    },
    {
     "data": {
      "image/png": "[encoded data removed]",
      "text/plain": [
       "<Figure size 432x288 with 1 Axes>"
      ]
     },
     "metadata": {
      "needs_background": "light"
     },
     "output_type": "display_data"
    }
   ],
   "source": [
    "x = [i for i in range(0,num_episodes)]\n",
    "y = np.mean(rewards_avg, axis=0)\n",
    "plot.xlabel('Episodes')\n",
    "plot.ylabel('Reward')\n",
    "plot.plot(x, y,'o')"
   ]
  },
  {
   "cell_type": "markdown",
   "metadata": {},
   "source": [
    "# Graphics zoom \n",
    "Looking at the graphs we see that our model that from episode 800 to 10000 we have that our model was stagnant, then adjusting the model we could run until episode 800 because that is the maximum that our Reward reached."
   ]
  },
  {
   "cell_type": "code",
   "execution_count": 115,
   "metadata": {},
   "outputs": [
    {
     "data": {
      "text/plain": [
       "[<matplotlib.lines.Line2D at 0x175ab4f90a0>]"
      ]
     },
     "execution_count": 115,
     "metadata": {},
     "output_type": "execute_result"
    },
    {
     "data": {
      "image/png": "[encoded data removed]",
      "text/plain": [
       "<Figure size 432x288 with 1 Axes>"
      ]
     },
     "metadata": {
      "needs_background": "light"
     },
     "output_type": "display_data"
    }
   ],
   "source": [
    "x = [i for i in range(0,num_episodes)]\n",
    "y = np.mean(rewards_avg, axis=0)\n",
    "plot.xlabel('Episodes')\n",
    "plot.ylabel('Reward')\n",
    "plot.plot(x[800:], y[800:],'o')"
   ]
  },
  {
   "cell_type": "markdown",
   "metadata": {},
   "source": [
    "# Values learned from the Q-Table"
   ]
  },
  {
   "cell_type": "code",
   "execution_count": 116,
   "metadata": {},
   "outputs": [
    {
     "name": "stdout",
     "output_type": "stream",
     "text": [
      "\n",
      "\n",
      "********Q-table********\n",
      "\n",
      "[[[-5.6805945  -5.2402931  -5.90429534 -5.82176998]\n",
      "  [-5.32809422 -4.24376603 -4.89932582 -6.0974004 ]\n",
      "  [-4.54980065 -3.41448922 -4.16042248 -5.20357025]\n",
      "  [-3.4633915  -2.5415676  -3.07135822 -4.24924536]\n",
      "  [-2.54280933 -1.62270273 -2.1277338  -3.41522199]\n",
      "  [-1.62374564 -0.65547656 -1.03590187 -2.54159844]\n",
      "  [-0.6554885   0.36251222  0.36265625 -1.62331391]\n",
      "  [-0.44998049 -1.66432857  1.43437232 -1.27506747]\n",
      "  [-1.54641081 -1.31193979 -0.29005964 -1.16734805]]\n",
      "\n",
      " [[-5.82553101 -4.70774426 -5.64785641 -5.58907484]\n",
      "  [-5.03160191 -3.85347526 -4.15367307 -5.49941515]\n",
      "  [-4.24379039 -2.9598378  -3.28416776 -4.6930765 ]\n",
      "  [-3.4150728  -2.07728338 -2.55133938 -3.88037313]\n",
      "  [-2.54494469 -1.10619276 -1.56751556 -3.16728713]\n",
      "  [-1.63000118  0.36265625 -0.05755241 -2.05892215]\n",
      "  [-0.6554768   1.43437477  1.434375   -0.98357395]\n",
      "  [ 0.2900624   0.13823333  2.5625      0.30675056]\n",
      "  [-1.44262597 -0.1443373   1.38131925  0.97605338]]\n",
      "\n",
      " [[-5.52492742 -4.91488326 -5.18269033 -5.16338699]\n",
      "  [-5.05934665 -3.27790779 -4.76648341 -5.16184971]\n",
      "  [-4.19374933 -2.36279482 -3.80900905 -4.620919  ]\n",
      "  [-4.24573858 -1.64244789 -2.60991843 -3.46405965]\n",
      "  [-2.40421181 -0.09636283 -0.75123531 -3.00398005]\n",
      "  [-1.51812354  1.434375    0.8134091  -1.94442016]\n",
      "  [ 0.36265624  2.5625      2.56249984  0.25997942]\n",
      "  [ 1.43437462  1.43437447  3.75        1.43437295]\n",
      "  [-0.25966784  0.75416634  2.0286346   2.56249999]]\n",
      "\n",
      " [[-4.91579412 -4.65013982 -4.70773389 -4.85891967]\n",
      "  [-5.12050373 -3.90258628 -4.08064913 -5.03937253]\n",
      "  [-3.89288878 -2.42130111 -3.43445059 -4.487487  ]\n",
      "  [-3.40131603 -0.77638615 -2.46712133 -3.43523806]\n",
      "  [-2.76647626  1.13371117 -1.16948875 -2.30165278]\n",
      "  [-0.47555103  2.54420443  0.94589978 -1.07184762]\n",
      "  [ 1.37075663  3.75        3.68155418  0.76227486]\n",
      "  [ 2.56249934  2.56249975  5.          2.56249984]\n",
      "  [ 0.93669088  2.36765104  2.96549845  3.74999998]]\n",
      "\n",
      " [[-4.60021711 -4.0997055  -4.15265021 -4.24810681]\n",
      "  [-4.4406556  -3.51004367 -3.77447412 -4.06196392]\n",
      "  [-3.20263889 -2.62776114 -2.9634679  -3.71850946]\n",
      "  [-2.61651278 -1.10773388 -2.2301187  -2.92004996]\n",
      "  [-1.86061409  1.0682545  -0.93505465 -1.56444353]\n",
      "  [-0.41903721  3.58457613 -0.6567371  -0.95763647]\n",
      "  [ 1.56949524  4.99504824  0.19203498  1.24172848]\n",
      "  [ 0.          0.          0.          0.        ]\n",
      "  [ 0.59812876  1.82812062 -0.22385919  4.78009767]]\n",
      "\n",
      " [[-4.10556386 -3.64383666 -3.69094326 -3.59205647]\n",
      "  [-3.88328329 -3.08652506 -3.30654295 -3.87701597]\n",
      "  [-2.75496548 -2.30701799 -2.62100719 -3.46612813]\n",
      "  [-2.67824032 -0.96860578 -1.56086717 -2.69525133]\n",
      "  [-1.15470468 -0.43196841 -0.93181856 -1.60676497]\n",
      "  [ 1.07545299 -0.44249189 -0.4284     -0.61123334]\n",
      "  [ 2.46737759 -0.018      -0.5904     -0.3687925 ]\n",
      "  [ 1.8        -0.2        -0.2        -0.2       ]\n",
      "  [ 1.12941361  0.          0.         -0.01      ]]\n",
      "\n",
      " [[-3.53781899 -3.3393273  -3.57666775 -3.57494262]\n",
      "  [-3.44116474 -2.84704196 -2.81303691 -3.64941794]\n",
      "  [-2.48281769 -2.17797642 -2.36955747 -2.57949614]\n",
      "  [-1.47804653 -1.36861724 -1.43059994 -1.62199125]\n",
      "  [-0.66992439 -0.94462616 -0.67426524 -0.85001605]\n",
      "  [-0.37810796 -0.36       -0.71352    -0.59384379]\n",
      "  [-0.11090858 -0.488       0.         -0.2684    ]\n",
      "  [-0.36       -0.5904     -0.36        0.        ]\n",
      "  [-0.36       -0.2         0.         -0.36      ]]]\n"
     ]
    }
   ],
   "source": [
    "print(\"\\n\\n********Q-table********\\n\")\n",
    "print(q_table)"
   ]
  },
  {
   "cell_type": "markdown",
   "metadata": {},
   "source": [
    "# Testing the learned model"
   ]
  },
  {
   "cell_type": "markdown",
   "metadata": {},
   "source": [
    "### Here we have the variables that would be:\n",
    "* path: which stores the paths per episode\n",
    "\n",
    "* path_Episode: that stores the path of an episode and **path** stores it.\n",
    "\n",
    "* path_Actions: which stores the actions per episode\n",
    "\n",
    "* path_Episode_Actions: that stores the actions of an episode and **path_Actions** stores it.\n",
    "\n",
    "Important:In the testing part we store 3 different paths"
   ]
  },
  {
   "cell_type": "code",
   "execution_count": 170,
   "metadata": {},
   "outputs": [
    {
     "name": "stdout",
     "output_type": "stream",
     "text": [
      "****You reached the goal!****\n",
      "****Finished!!!!!****\n"
     ]
    }
   ],
   "source": [
    "path=[]\n",
    "path_Episode=[]\n",
    "\n",
    "path_Actions=[]\n",
    "path_Episode_Actions=[]\n",
    "\n",
    "for episode in range(3):\n",
    "    state = initial_state\n",
    "    done = False\n",
    "    print(\"*****EPISODE \", episode+1, \"*****\\n\\n\\n\\n\")\n",
    "    time.sleep(1)\n",
    "    path_Episode=[]\n",
    "    path_Episode_Actions=[]\n",
    "    for step in range(max_steps_per_episode):        \n",
    "        clear_output(wait=True)\n",
    "        #env.render()\n",
    "        time.sleep(0.3)\n",
    "        \n",
    "        action = np.argmax(q_table[state[0], state[1]])\n",
    "        new_state, reward, done = expe(state,action)\n",
    "        path_Episode.append(state)\n",
    "        path_Episode_Actions.append(actions[action])\n",
    "        if done:\n",
    "            clear_output(wait=True)\n",
    "            #env.render()\n",
    "            if reward == 5:\n",
    "                path_Episode.append(new_state)\n",
    "                path_Episode_Actions.append(actions[np.argmax(q_table[new_state[0], new_state[1]])])\n",
    "                print(\"****You reached the goal!****\")\n",
    "                time.sleep(3)\n",
    "            break\n",
    "            \n",
    "        state = new_state\n",
    "        #env.close()\n",
    "    path.append(path_Episode)\n",
    "    path_Actions.append(path_Episode_Actions)\n",
    "print(\"****Finished!!!!!****\")"
   ]
  },
  {
   "cell_type": "markdown",
   "metadata": {},
   "source": [
    "# Visualization of the paths and their actions\n",
    "Here we basically just see how he traveled the first road to reach the goal."
   ]
  },
  {
   "cell_type": "code",
   "execution_count": 171,
   "metadata": {
    "scrolled": true
   },
   "outputs": [
    {
     "name": "stdout",
     "output_type": "stream",
     "text": [
      "(1, 1) right\n",
      "(1, 2) right\n",
      "(1, 3) right\n",
      "(0, 4) right\n",
      "(0, 5) right\n",
      "(0, 6) down\n",
      "(1, 6) down\n",
      "(2, 6) right\n",
      "(2, 7) down\n",
      "(3, 7) down\n",
      "(4, 7) up\n"
     ]
    }
   ],
   "source": [
    "First_path=path[0]\n",
    "First_path_Actions=path_Actions[0]\n",
    "\n",
    "for i in range(0,len(First_path)):\n",
    "    print(First_path[i],First_path_Actions[i])"
   ]
  },
  {
   "cell_type": "markdown",
   "metadata": {},
   "source": [
    "### Through the render function we can see how Harry arrived at the Sirius target\n",
    "In my matrix the 0's are basically the untraveled paths and the 1 is Harry's traveled path.\n",
    "**def render(path,path_Actions)** function.\n"
   ]
  },
  {
   "cell_type": "code",
   "execution_count": 173,
   "metadata": {},
   "outputs": [],
   "source": [
    "def render(path,path_Actions):\n",
    "    mat2= np.zeros((row_size,column_size))\n",
    "    for i in range(0,len(path)):\n",
    "        print('Action: ',path_Actions[i])\n",
    "        i,j = path[i]\n",
    "        mat2[i][j]= 1\n",
    "        print(' **********A  B  C *********')\n",
    "        print(mat2)\n",
    "        time.sleep(1)\n",
    "        clear_output(wait=True)\n"
   ]
  },
  {
   "cell_type": "markdown",
   "metadata": {},
   "source": [
    "# 1st path\n",
    "In the first path we can see that Harry suffered a strong wind in A so he fell one frame up but still reached the finish line Sirius."
   ]
  },
  {
   "cell_type": "code",
   "execution_count": 147,
   "metadata": {},
   "outputs": [
    {
     "name": "stdout",
     "output_type": "stream",
     "text": [
      "Action:  up\n",
      " **********A  B  C *********\n",
      "[[0. 0. 0. 0. 1. 1. 1. 0. 0.]\n",
      " [0. 1. 1. 1. 0. 0. 1. 0. 0.]\n",
      " [0. 0. 0. 0. 0. 0. 1. 1. 0.]\n",
      " [0. 0. 0. 0. 0. 0. 0. 1. 0.]\n",
      " [0. 0. 0. 0. 0. 0. 0. 1. 0.]\n",
      " [0. 0. 0. 0. 0. 0. 0. 0. 0.]\n",
      " [0. 0. 0. 0. 0. 0. 0. 0. 0.]]\n"
     ]
    }
   ],
   "source": [
    "render(path[0],path_Actions[0])"
   ]
  },
  {
   "cell_type": "markdown",
   "metadata": {},
   "source": [
    "# 2nd path\n",
    "In the first path we can see that Harry suffered a strong wind in C so he fell one frame up but he still reached the goal Sirius."
   ]
  },
  {
   "cell_type": "code",
   "execution_count": 148,
   "metadata": {},
   "outputs": [
    {
     "name": "stdout",
     "output_type": "stream",
     "text": [
      "Action:  up\n",
      " **********A  B  C *********\n",
      "[[0. 0. 0. 0. 0. 1. 1. 0. 0.]\n",
      " [0. 1. 1. 1. 1. 0. 1. 0. 0.]\n",
      " [0. 0. 0. 0. 0. 0. 1. 1. 0.]\n",
      " [0. 0. 0. 0. 0. 0. 0. 1. 0.]\n",
      " [0. 0. 0. 0. 0. 0. 0. 1. 0.]\n",
      " [0. 0. 0. 0. 0. 0. 0. 0. 0.]\n",
      " [0. 0. 0. 0. 0. 0. 0. 0. 0.]]\n"
     ]
    }
   ],
   "source": [
    "render(path[1],path_Actions[1])"
   ]
  },
  {
   "cell_type": "markdown",
   "metadata": {},
   "source": [
    "# 3rd path\n",
    "In the first path we can see that Harry suffered a strong wind in A so he fell one frame up but he still reached the goal Sirius."
   ]
  },
  {
   "cell_type": "code",
   "execution_count": 149,
   "metadata": {},
   "outputs": [
    {
     "name": "stdout",
     "output_type": "stream",
     "text": [
      "Action:  up\n",
      " **********A  B  C *********\n",
      "[[0. 0. 0. 1. 1. 1. 1. 0. 0.]\n",
      " [0. 1. 1. 0. 0. 0. 1. 0. 0.]\n",
      " [0. 0. 0. 0. 0. 0. 1. 1. 0.]\n",
      " [0. 0. 0. 0. 0. 0. 0. 1. 0.]\n",
      " [0. 0. 0. 0. 0. 0. 0. 1. 0.]\n",
      " [0. 0. 0. 0. 0. 0. 0. 0. 0.]\n",
      " [0. 0. 0. 0. 0. 0. 0. 0. 0.]]\n"
     ]
    }
   ],
   "source": [
    "render(path[2],path_Actions[2])"
   ]
  },
  {
   "cell_type": "markdown",
   "metadata": {},
   "source": [
    "# Favorable paths\n",
    "Once we see what would be the matrix where we are given the directions to reach our goal, we see clearly that the algorithm is complying according to the Q-Table table"
   ]
  },
  {
   "cell_type": "code",
   "execution_count": 164,
   "metadata": {},
   "outputs": [
    {
     "name": "stdout",
     "output_type": "stream",
     "text": [
      "['right', 'right', 'right', 'right', 'right', 'right', 'down', 'down', 'down']\n",
      "['right', 'right', 'right', 'right', 'right', 'right', 'down', 'down', 'down']\n",
      "['right', 'right', 'right', 'right', 'right', 'right', 'right', 'down', 'left']\n",
      "['right', 'right', 'right', 'right', 'right', 'right', 'right', 'down', 'left']\n",
      "['right', 'right', 'right', 'right', 'right', 'right', 'right', '*', 'left']\n",
      "['left', 'right', 'right', 'right', 'right', 'up', 'up', 'up', 'up']\n",
      "['right', 'down', 'right', 'right', 'up', 'right', 'down', 'left', 'down']\n"
     ]
    }
   ],
   "source": [
    "def Direction_matrix():\n",
    "    Path_fav= [ ['' for columna in range(0,column_size)] for fila in range (0,row_size)]\n",
    "    for i in range(0,row_size):\n",
    "        for j in range(0,column_size): \n",
    "            if( (i,j) == goal_state):\n",
    "                Path_fav[i][j]='*';\n",
    "            else:\n",
    "                Path_fav[i][j]=actions[np.argmax(  q_table[i,j ]  )]\n",
    "\n",
    "\n",
    "    for path in Path_fav:\n",
    "        print(path)\n",
    "Direction_matrix()      "
   ]
  },
  {
   "cell_type": "markdown",
   "metadata": {},
   "source": [
    "# Conclusion\n",
    "In this work, an implementation of the Q-Learning algorithm was presented. The results obtained were thanks to the values initiated in this case with the following variables:\n",
    "* num_episodes = 10000\n",
    "* max_steps_per_episode = 100\n",
    "* learning_rate = 0.2\n",
    "* discount_rate = 0.95\n",
    "* exploration_rate = 1 # Epsilon\n",
    "* max_exploration_rate = 1 # Epsilon Max\n",
    "* min_exploration_rate = 0.01 # Epsilon min\n",
    "* exploration_decay_rate = 0.005 # Epsiolon Delta\n",
    "\n",
    "The agent had a good performance all this thanks to the Q-Table, also seen the previous graphs the model can be improved, and this depends on how far the model is growing and where the value is at the top up to that point of episodes we have to have."
   ]
  },
  {
   "cell_type": "markdown",
   "metadata": {},
   "source": [
    "# Bibliography\n",
    "* https://medium.com/@qempsil0914/zero-to-one-deep-q-learning-part1-basic-introduction-and-implementation-bb7602b55a2c\n",
    "* https://ichi.pro/es/una-guia-para-principiantes-de-q-learning-215378165392700"
   ]
  },
  {
   "cell_type": "code",
   "execution_count": null,
   "metadata": {},
   "outputs": [],
   "source": []
  }
 ],
 "metadata": {
  "kernelspec": {
   "display_name": "Python 3",
   "language": "python",
   "name": "python3"
  },
  "language_info": {
   "codemirror_mode": {
    "name": "ipython",
    "version": 3
   },
   "file_extension": ".py",
   "mimetype": "text/x-python",
   "name": "python",
   "nbconvert_exporter": "python",
   "pygments_lexer": "ipython3",
   "version": "3.8.5"
  }
 },
 "nbformat": 4,
 "nbformat_minor": 5
}
